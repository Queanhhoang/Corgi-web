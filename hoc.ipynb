{
 "cells": [
  {
   "cell_type": "markdown",
   "metadata": {},
   "source": [
    "# Transition:\n",
    "width: 0 -> 100% (after->active)\n",
    "transition: 0.3s ease-in-out;"
   ]
  },
  {
   "cell_type": "markdown",
   "metadata": {},
   "source": [
    "# Nav-bar\n",
    "position: fixed;\n",
    "top: 0;\n",
    "right: 0;\n",
    "left: 0;\n",
    "z-index: 1;\n",
    ".main-picture {\n",
    "  position: relative;\n",
    "  margin-top: 87px;\n",
    "}\n",
    "# Text-gadient\n",
    ".rotating-words > p {\n",
    "  background: linear-gradient(135deg, #43cbff 0%, #9708cc 100%);\n",
    "  background-clip: text;\n",
    "  -webkit-background-clip: text;\n",
    "  -webkit-text-fill-color: transparent;\n",
    "  animation: rotating 4s ease-in-out infinite;\n",
    "}"
   ]
  },
  {
   "cell_type": "markdown",
   "metadata": {},
   "source": [
    "### Github Page\n",
    "git init\n",
    "git add . : add toàn bộ các file\n"
   ]
  }
 ],
 "metadata": {
  "kernelspec": {
   "display_name": "Python 3.9.16 ('ML')",
   "language": "python",
   "name": "python3"
  },
  "language_info": {
   "name": "python",
   "version": "3.9.16"
  },
  "orig_nbformat": 4,
  "vscode": {
   "interpreter": {
    "hash": "c471e453e401db54836ab23c092d3501caf23d855aab7a9ab35a10f57d9c5e04"
   }
  }
 },
 "nbformat": 4,
 "nbformat_minor": 2
}
